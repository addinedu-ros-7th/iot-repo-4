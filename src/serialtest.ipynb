{
 "cells": [
  {
   "cell_type": "code",
   "execution_count": null,
   "metadata": {
    "vscode": {
     "languageId": "plaintext"
    }
   },
   "outputs": [],
   "source": [
    "import serial\n",
    "\n",
    "# 시리얼 포트와 통신 설정\n",
    "ser = serial.Serial('/dev/ttyUSB0', 9600)  # 포트와 보율 설정\n",
    "\n",
    "while True:\n",
    "    if ser.in_waiting >= 2:  # 2바이트 메시지가 있을 때\n",
    "        data = ser.read(2)   # 2바이트 읽음\n",
    "        if data[0] == 0xAA:  # 시작 바이트 확인\n",
    "            guard_on = bool(data[1])  # 두 번째 바이트가 guard_on 상태\n",
    "            print(\"Guard ON\" if guard_on else \"Guard OFF\")"
   ]
  },
  {
   "cell_type": "code",
   "execution_count": null,
   "metadata": {
    "vscode": {
     "languageId": "plaintext"
    }
   },
   "outputs": [],
   "source": [
    "import serial\n",
    "\n",
    "# 시리얼 포트와 통신 설정\n",
    "ser = serial.Serial('/dev/ttyUSB0', 9600)  # 포트와 보율 설정\n",
    "\n",
    "while True:\n",
    "    if ser.in_waiting >= 2:  # 2바이트 메시지가 있을 때\n",
    "        data = ser.read(2)   # 2바이트 읽음\n",
    "        if data[0] == 0xAA:  # 시작 바이트 확인\n",
    "            guard_on = bool(data[1])  # 두 번째 바이트가 guard_on 상태\n",
    "            print(\"Guard ON\" if guard_on else \"Guard OFF\")"
   ]
  }
 ],
 "metadata": {
  "language_info": {
   "name": "python"
  }
 },
 "nbformat": 4,
 "nbformat_minor": 2
}
